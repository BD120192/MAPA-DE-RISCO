{
 "cells": [
  {
   "cell_type": "markdown",
   "metadata": {},
   "source": [
    "# Conexão com postgres e Relatorios do Sistema"
   ]
  },
  {
   "cell_type": "markdown",
   "metadata": {},
   "source": [
    "## Instalando biblioteca de acesso com postgres e manipulação de dados e gráficos"
   ]
  },
  {
   "cell_type": "code",
   "execution_count": 1,
   "metadata": {},
   "outputs": [
    {
     "name": "stdout",
     "output_type": "stream",
     "text": [
      "Requirement already satisfied: psycopg2-binary in c:\\users\\bruno\\appdata\\roaming\\python\\python36\\site-packages (2.8.2)\n",
      "Requirement already satisfied: seaborn in c:\\users\\bruno\\appdata\\roaming\\python\\python36\\site-packages (0.9.0)\n",
      "Requirement already satisfied: scipy>=0.14.0 in c:\\users\\bruno\\appdata\\roaming\\python\\python36\\site-packages (from seaborn) (1.3.0)\n",
      "Requirement already satisfied: pandas>=0.15.2 in c:\\users\\bruno\\appdata\\roaming\\python\\python36\\site-packages (from seaborn) (0.24.2)\n",
      "Requirement already satisfied: matplotlib>=1.4.3 in c:\\program files (x86)\\python36-32\\lib\\site-packages (from seaborn) (3.0.3)\n",
      "Requirement already satisfied: numpy>=1.9.3 in c:\\program files (x86)\\python36-32\\lib\\site-packages (from seaborn) (1.16.2)\n",
      "Requirement already satisfied: pytz>=2011k in c:\\users\\bruno\\appdata\\roaming\\python\\python36\\site-packages (from pandas>=0.15.2->seaborn) (2019.1)\n",
      "Requirement already satisfied: python-dateutil>=2.5.0 in c:\\program files (x86)\\python36-32\\lib\\site-packages (from pandas>=0.15.2->seaborn) (2.8.0)\n",
      "Requirement already satisfied: cycler>=0.10 in c:\\program files (x86)\\python36-32\\lib\\site-packages (from matplotlib>=1.4.3->seaborn) (0.10.0)\n",
      "Requirement already satisfied: kiwisolver>=1.0.1 in c:\\program files (x86)\\python36-32\\lib\\site-packages (from matplotlib>=1.4.3->seaborn) (1.0.1)\n",
      "Requirement already satisfied: pyparsing!=2.0.4,!=2.1.2,!=2.1.6,>=2.0.1 in c:\\program files (x86)\\python36-32\\lib\\site-packages (from matplotlib>=1.4.3->seaborn) (2.3.1)\n",
      "Requirement already satisfied: six>=1.5 in c:\\program files (x86)\\python36-32\\lib\\site-packages (from python-dateutil>=2.5.0->pandas>=0.15.2->seaborn) (1.12.0)\n",
      "Requirement already satisfied: setuptools in c:\\program files (x86)\\python36-32\\lib\\site-packages (from kiwisolver>=1.0.1->matplotlib>=1.4.3->seaborn) (28.8.0)\n",
      "Requirement already satisfied: pandas in c:\\users\\bruno\\appdata\\roaming\\python\\python36\\site-packages (0.24.2)\n",
      "Requirement already satisfied: python-dateutil>=2.5.0 in c:\\program files (x86)\\python36-32\\lib\\site-packages (from pandas) (2.8.0)\n",
      "Requirement already satisfied: numpy>=1.12.0 in c:\\program files (x86)\\python36-32\\lib\\site-packages (from pandas) (1.16.2)\n",
      "Requirement already satisfied: pytz>=2011k in c:\\users\\bruno\\appdata\\roaming\\python\\python36\\site-packages (from pandas) (2019.1)\n",
      "Requirement already satisfied: six>=1.5 in c:\\program files (x86)\\python36-32\\lib\\site-packages (from python-dateutil>=2.5.0->pandas) (1.12.0)\n"
     ]
    }
   ],
   "source": [
    "!pip install --user psycopg2-binary\n",
    "!pip install --user seaborn\n",
    "!pip install --user pandas"
   ]
  },
  {
   "cell_type": "markdown",
   "metadata": {},
   "source": [
    "### Importando bibliotecas"
   ]
  },
  {
   "cell_type": "code",
   "execution_count": 1,
   "metadata": {},
   "outputs": [],
   "source": [
    "import seaborn as sns\n",
    "import pandas as pd\n",
    "import psycopg2"
   ]
  },
  {
   "cell_type": "markdown",
   "metadata": {},
   "source": [
    "### Usando psycopg2 para configurar conexão"
   ]
  },
  {
   "cell_type": "code",
   "execution_count": 2,
   "metadata": {},
   "outputs": [],
   "source": [
    "conn = psycopg2.connect(host=\"localhost\",database=\"bd1\", user=\"postgres\", password=\"postgres\")"
   ]
  },
  {
   "cell_type": "markdown",
   "metadata": {},
   "source": [
    "## Obtendo dados do database com Pandas"
   ]
  },
  {
   "cell_type": "markdown",
   "metadata": {},
   "source": [
    "# RELATÓRIO DO SISTEMA MAPA DE RISCO"
   ]
  },
  {
   "cell_type": "markdown",
   "metadata": {},
   "source": [
    "### CONSULTA DA RUA PESQUISADA PELO USUÁRIO:\n"
   ]
  },
  {
   "cell_type": "code",
   "execution_count": null,
   "metadata": {},
   "outputs": [],
   "source": [
    "    O usuário preenche, através do aplicativo, três campos para pesquisar uma rua: cidade, estado e a rua. A necessidade \n",
    "de outros campos além da rua veio a partir da descoberta de ruas com os mesmos nomes porém localizadas em cidades ou \n",
    "bairros diferentes.\n",
    "    A classifcicação de uma rua é determinada através da quantidade de crimes ocorridos na mesma:\n",
    "        - 0 crimes: classificação do tipo A\n",
    "        - 1 crimes: classificação do tipo B\n",
    "        - 2 crimes: classificação do tipo C\n",
    "        - 3 crimes: classificação do tipo D\n",
    "        - 4 crimes ou mais: classificação do tipo E\n",
    "    \n",
    "    Cada uma das classificações, além de uma letra, recebe um texto padrão que descreve o nível de segurança.\n",
    "        - tipo A: ALTAMENTE SEGURO\n",
    "        - tipo B: SEGURO\n",
    "        - tipo C: INTERMEDIARIO\n",
    "        - tipo D: PERIGOSO\n",
    "        - tipo E: ALTAMENTE PERIGOSO"
   ]
  },
  {
   "cell_type": "markdown",
   "metadata": {},
   "source": [
    "#### EXEMPLOS DE CONSULTAS DE RUAS PESQUISADAS POR UM USUÁRIO:\n"
   ]
  },
  {
   "cell_type": "code",
   "execution_count": 4,
   "metadata": {},
   "outputs": [],
   "source": [
    "rua = pd.read_sql_query(\"\"\"select ru.id,ru.nome_rua,ba.nome_bairro,ci.nome_cidade,ru.quantidade_crimes,cl.tipo,de.textopadrao\n",
    "                            from rua ru inner join bairro ba on (ru.id_bairro = ba.id) \n",
    "                            inner join cidade ci on (ru.id_cidade = ci.id)\n",
    "                            inner join classificacao cl on (ru.id_classificacao = cl.id) \n",
    "                            inner join descricao de on(ru.id_classificacao = de.id)\n",
    "                            where ru.nome_rua = 'POEIRAO' and ba.nome_bairro = 'DO MOSCOSO' \n",
    "                            and ci.nome_cidade = 'VITORIA'\"\"\",conn)\n",
    "\n",
    "rua2 = pd.read_sql_query(\"\"\"select ru.id,ru.nome_rua,ba.nome_bairro,ci.nome_cidade,ru.quantidade_crimes,cl.tipo,de.textopadrao\n",
    "                            from rua ru inner join bairro ba on (ru.id_bairro = ba.id) \n",
    "                            inner join cidade ci on (ru.id_cidade = ci.id)\n",
    "                            inner join classificacao cl on (ru.id_classificacao = cl.id) \n",
    "                            inner join descricao de on(ru.id_classificacao = de.id)\n",
    "                            where ru.nome_rua = 'AV CARLOS LINDENBERG' and ba.nome_bairro = 'COBI DE BAIXO' \n",
    "                            and ci.nome_cidade = 'VILA VELHA'\"\"\",conn)\n",
    "\n",
    "rua3 = pd.read_sql_query(\"\"\"select ru.id,ru.nome_rua,ba.nome_bairro,ci.nome_cidade,ru.quantidade_crimes,cl.tipo,de.textopadrao\n",
    "                            from rua ru inner join bairro ba on (ru.id_bairro = ba.id) \n",
    "                            inner join cidade ci on (ru.id_cidade = ci.id)\n",
    "                            inner join classificacao cl on (ru.id_classificacao = cl.id) \n",
    "                            inner join descricao de on(ru.id_classificacao = de.id)\n",
    "                            where ru.nome_rua = 'RUA AGUA MARINHA' and ba.nome_bairro = 'PONTAL DE SANTA MONICA' \n",
    "                            and ci.nome_cidade = 'GUARAPARI'\"\"\",conn)"
   ]
  },
  {
   "cell_type": "code",
   "execution_count": 5,
   "metadata": {},
   "outputs": [
    {
     "data": {
      "text/html": [
       "<div>\n",
       "<style scoped>\n",
       "    .dataframe tbody tr th:only-of-type {\n",
       "        vertical-align: middle;\n",
       "    }\n",
       "\n",
       "    .dataframe tbody tr th {\n",
       "        vertical-align: top;\n",
       "    }\n",
       "\n",
       "    .dataframe thead th {\n",
       "        text-align: right;\n",
       "    }\n",
       "</style>\n",
       "<table border=\"1\" class=\"dataframe\">\n",
       "  <thead>\n",
       "    <tr style=\"text-align: right;\">\n",
       "      <th></th>\n",
       "      <th>id</th>\n",
       "      <th>nome_rua</th>\n",
       "      <th>nome_bairro</th>\n",
       "      <th>nome_cidade</th>\n",
       "      <th>quantidade_crimes</th>\n",
       "      <th>tipo</th>\n",
       "      <th>textopadrao</th>\n",
       "    </tr>\n",
       "  </thead>\n",
       "  <tbody>\n",
       "    <tr>\n",
       "      <th>0</th>\n",
       "      <td>38</td>\n",
       "      <td>POEIRAO</td>\n",
       "      <td>DO MOSCOSO</td>\n",
       "      <td>VITORIA</td>\n",
       "      <td>4</td>\n",
       "      <td>E</td>\n",
       "      <td>ALTAMENTE PERIGOSO</td>\n",
       "    </tr>\n",
       "  </tbody>\n",
       "</table>\n",
       "</div>"
      ],
      "text/plain": [
       "   id nome_rua nome_bairro nome_cidade  quantidade_crimes tipo  \\\n",
       "0  38  POEIRAO  DO MOSCOSO     VITORIA                  4    E   \n",
       "\n",
       "          textopadrao  \n",
       "0  ALTAMENTE PERIGOSO  "
      ]
     },
     "execution_count": 5,
     "metadata": {},
     "output_type": "execute_result"
    }
   ],
   "source": [
    "rua"
   ]
  },
  {
   "cell_type": "code",
   "execution_count": 6,
   "metadata": {},
   "outputs": [
    {
     "data": {
      "text/html": [
       "<div>\n",
       "<style scoped>\n",
       "    .dataframe tbody tr th:only-of-type {\n",
       "        vertical-align: middle;\n",
       "    }\n",
       "\n",
       "    .dataframe tbody tr th {\n",
       "        vertical-align: top;\n",
       "    }\n",
       "\n",
       "    .dataframe thead th {\n",
       "        text-align: right;\n",
       "    }\n",
       "</style>\n",
       "<table border=\"1\" class=\"dataframe\">\n",
       "  <thead>\n",
       "    <tr style=\"text-align: right;\">\n",
       "      <th></th>\n",
       "      <th>id</th>\n",
       "      <th>nome_rua</th>\n",
       "      <th>nome_bairro</th>\n",
       "      <th>nome_cidade</th>\n",
       "      <th>quantidade_crimes</th>\n",
       "      <th>tipo</th>\n",
       "      <th>textopadrao</th>\n",
       "    </tr>\n",
       "  </thead>\n",
       "  <tbody>\n",
       "    <tr>\n",
       "      <th>0</th>\n",
       "      <td>160</td>\n",
       "      <td>AV CARLOS LINDENBERG</td>\n",
       "      <td>COBI DE BAIXO</td>\n",
       "      <td>VILA VELHA</td>\n",
       "      <td>1</td>\n",
       "      <td>B</td>\n",
       "      <td>SEGURO</td>\n",
       "    </tr>\n",
       "  </tbody>\n",
       "</table>\n",
       "</div>"
      ],
      "text/plain": [
       "    id              nome_rua    nome_bairro nome_cidade  quantidade_crimes  \\\n",
       "0  160  AV CARLOS LINDENBERG  COBI DE BAIXO  VILA VELHA                  1   \n",
       "\n",
       "  tipo textopadrao  \n",
       "0    B      SEGURO  "
      ]
     },
     "execution_count": 6,
     "metadata": {},
     "output_type": "execute_result"
    }
   ],
   "source": [
    "rua2"
   ]
  },
  {
   "cell_type": "code",
   "execution_count": 7,
   "metadata": {
    "scrolled": true
   },
   "outputs": [
    {
     "data": {
      "text/html": [
       "<div>\n",
       "<style scoped>\n",
       "    .dataframe tbody tr th:only-of-type {\n",
       "        vertical-align: middle;\n",
       "    }\n",
       "\n",
       "    .dataframe tbody tr th {\n",
       "        vertical-align: top;\n",
       "    }\n",
       "\n",
       "    .dataframe thead th {\n",
       "        text-align: right;\n",
       "    }\n",
       "</style>\n",
       "<table border=\"1\" class=\"dataframe\">\n",
       "  <thead>\n",
       "    <tr style=\"text-align: right;\">\n",
       "      <th></th>\n",
       "      <th>id</th>\n",
       "      <th>nome_rua</th>\n",
       "      <th>nome_bairro</th>\n",
       "      <th>nome_cidade</th>\n",
       "      <th>quantidade_crimes</th>\n",
       "      <th>tipo</th>\n",
       "      <th>textopadrao</th>\n",
       "    </tr>\n",
       "  </thead>\n",
       "  <tbody>\n",
       "    <tr>\n",
       "      <th>0</th>\n",
       "      <td>73</td>\n",
       "      <td>RUA AGUA MARINHA</td>\n",
       "      <td>PONTAL DE SANTA MONICA</td>\n",
       "      <td>GUARAPARI</td>\n",
       "      <td>2</td>\n",
       "      <td>C</td>\n",
       "      <td>INTERMEDIÁRIO</td>\n",
       "    </tr>\n",
       "  </tbody>\n",
       "</table>\n",
       "</div>"
      ],
      "text/plain": [
       "   id          nome_rua             nome_bairro nome_cidade  \\\n",
       "0  73  RUA AGUA MARINHA  PONTAL DE SANTA MONICA   GUARAPARI   \n",
       "\n",
       "   quantidade_crimes tipo    textopadrao  \n",
       "0                  2    C  INTERMEDIÁRIO  "
      ]
     },
     "execution_count": 7,
     "metadata": {},
     "output_type": "execute_result"
    }
   ],
   "source": [
    "rua3"
   ]
  },
  {
   "cell_type": "markdown",
   "metadata": {},
   "source": [
    "#### EXEMPLOS DE CONSULTAS DOS CRIMES OCORRIDOS NAS RUAS PESQUISADAS:\n"
   ]
  },
  {
   "cell_type": "code",
   "execution_count": 51,
   "metadata": {},
   "outputs": [],
   "source": [
    "res = pd.read_sql_query(\"\"\"SELECT cr.id,cr.data,cr.hora,vi.idade,se.genero,tc.descricao_crime FROM crime cr \n",
    "                        INNER JOIN vitima vi ON(cr.id_vitima = vi.id) INNER JOIN sexo se ON(vi.id_sexo = se.id)\n",
    "                        INNER JOIN tipo_crime tc ON(cr.id_tipo_crime = tc.id)\n",
    "                        WHERE cr.id_rua = 38 ORDER BY cr.data\"\"\",conn)\n",
    "res2 = pd.read_sql_query(\"\"\"SELECT cr.id,cr.data,cr.hora,vi.idade,se.genero,tc.descricao_crime FROM crime cr \n",
    "                        INNER JOIN vitima vi ON(cr.id_vitima = vi.id) INNER JOIN sexo se ON(vi.id_sexo = se.id)\n",
    "                        INNER JOIN tipo_crime tc ON(cr.id_tipo_crime = tc.id)\n",
    "                        WHERE cr.id_rua = 160 ORDER BY cr.data\"\"\",conn)\n",
    "res3 = pd.read_sql_query(\"\"\"SELECT cr.id,cr.data,cr.hora,vi.idade,se.genero,tc.descricao_crime FROM crime cr \n",
    "                        INNER JOIN vitima vi ON(cr.id_vitima = vi.id) INNER JOIN sexo se ON(vi.id_sexo = se.id)\n",
    "                        INNER JOIN tipo_crime tc ON(cr.id_tipo_crime = tc.id)\n",
    "                        WHERE cr.id_rua = 73 ORDER BY cr.data\"\"\",conn)"
   ]
  },
  {
   "cell_type": "code",
   "execution_count": 52,
   "metadata": {},
   "outputs": [
    {
     "data": {
      "text/html": [
       "<div>\n",
       "<style scoped>\n",
       "    .dataframe tbody tr th:only-of-type {\n",
       "        vertical-align: middle;\n",
       "    }\n",
       "\n",
       "    .dataframe tbody tr th {\n",
       "        vertical-align: top;\n",
       "    }\n",
       "\n",
       "    .dataframe thead th {\n",
       "        text-align: right;\n",
       "    }\n",
       "</style>\n",
       "<table border=\"1\" class=\"dataframe\">\n",
       "  <thead>\n",
       "    <tr style=\"text-align: right;\">\n",
       "      <th></th>\n",
       "      <th>id</th>\n",
       "      <th>data</th>\n",
       "      <th>hora</th>\n",
       "      <th>idade</th>\n",
       "      <th>genero</th>\n",
       "      <th>descricao_crime</th>\n",
       "    </tr>\n",
       "  </thead>\n",
       "  <tbody>\n",
       "    <tr>\n",
       "      <th>0</th>\n",
       "      <td>42</td>\n",
       "      <td>2019-01-14</td>\n",
       "      <td>13:58:00</td>\n",
       "      <td>22</td>\n",
       "      <td>M</td>\n",
       "      <td>HOMICÍDIO DOLOSO</td>\n",
       "    </tr>\n",
       "    <tr>\n",
       "      <th>1</th>\n",
       "      <td>40</td>\n",
       "      <td>2019-01-14</td>\n",
       "      <td>01:00:00</td>\n",
       "      <td>23</td>\n",
       "      <td>M</td>\n",
       "      <td>HOMICÍDIO DOLOSO</td>\n",
       "    </tr>\n",
       "    <tr>\n",
       "      <th>2</th>\n",
       "      <td>39</td>\n",
       "      <td>2019-01-14</td>\n",
       "      <td>06:03:00</td>\n",
       "      <td>18</td>\n",
       "      <td>M</td>\n",
       "      <td>LATROCÍNIO</td>\n",
       "    </tr>\n",
       "    <tr>\n",
       "      <th>3</th>\n",
       "      <td>86</td>\n",
       "      <td>2019-01-28</td>\n",
       "      <td>20:16:00</td>\n",
       "      <td>23</td>\n",
       "      <td>M</td>\n",
       "      <td>HOMICÍDIO DOLOSO</td>\n",
       "    </tr>\n",
       "  </tbody>\n",
       "</table>\n",
       "</div>"
      ],
      "text/plain": [
       "   id        data      hora  idade genero   descricao_crime\n",
       "0  42  2019-01-14  13:58:00     22      M  HOMICÍDIO DOLOSO\n",
       "1  40  2019-01-14  01:00:00     23      M  HOMICÍDIO DOLOSO\n",
       "2  39  2019-01-14  06:03:00     18      M        LATROCÍNIO\n",
       "3  86  2019-01-28  20:16:00     23      M  HOMICÍDIO DOLOSO"
      ]
     },
     "execution_count": 52,
     "metadata": {},
     "output_type": "execute_result"
    }
   ],
   "source": [
    "res"
   ]
  },
  {
   "cell_type": "code",
   "execution_count": 12,
   "metadata": {},
   "outputs": [
    {
     "data": {
      "text/html": [
       "<div>\n",
       "<style scoped>\n",
       "    .dataframe tbody tr th:only-of-type {\n",
       "        vertical-align: middle;\n",
       "    }\n",
       "\n",
       "    .dataframe tbody tr th {\n",
       "        vertical-align: top;\n",
       "    }\n",
       "\n",
       "    .dataframe thead th {\n",
       "        text-align: right;\n",
       "    }\n",
       "</style>\n",
       "<table border=\"1\" class=\"dataframe\">\n",
       "  <thead>\n",
       "    <tr style=\"text-align: right;\">\n",
       "      <th></th>\n",
       "      <th>id</th>\n",
       "      <th>data</th>\n",
       "      <th>hora</th>\n",
       "      <th>idade</th>\n",
       "      <th>genero</th>\n",
       "      <th>descricao_crime</th>\n",
       "    </tr>\n",
       "  </thead>\n",
       "  <tbody>\n",
       "    <tr>\n",
       "      <th>0</th>\n",
       "      <td>90</td>\n",
       "      <td>2019-01-29</td>\n",
       "      <td>06:45:00</td>\n",
       "      <td>26</td>\n",
       "      <td>M</td>\n",
       "      <td>HOMICÍDIO DOLOSO</td>\n",
       "    </tr>\n",
       "  </tbody>\n",
       "</table>\n",
       "</div>"
      ],
      "text/plain": [
       "   id        data      hora  idade genero   descricao_crime\n",
       "0  90  2019-01-29  06:45:00     26      M  HOMICÍDIO DOLOSO"
      ]
     },
     "execution_count": 12,
     "metadata": {},
     "output_type": "execute_result"
    }
   ],
   "source": [
    "res2"
   ]
  },
  {
   "cell_type": "code",
   "execution_count": 53,
   "metadata": {},
   "outputs": [
    {
     "data": {
      "text/html": [
       "<div>\n",
       "<style scoped>\n",
       "    .dataframe tbody tr th:only-of-type {\n",
       "        vertical-align: middle;\n",
       "    }\n",
       "\n",
       "    .dataframe tbody tr th {\n",
       "        vertical-align: top;\n",
       "    }\n",
       "\n",
       "    .dataframe thead th {\n",
       "        text-align: right;\n",
       "    }\n",
       "</style>\n",
       "<table border=\"1\" class=\"dataframe\">\n",
       "  <thead>\n",
       "    <tr style=\"text-align: right;\">\n",
       "      <th></th>\n",
       "      <th>id</th>\n",
       "      <th>data</th>\n",
       "      <th>hora</th>\n",
       "      <th>idade</th>\n",
       "      <th>genero</th>\n",
       "      <th>descricao_crime</th>\n",
       "    </tr>\n",
       "  </thead>\n",
       "  <tbody>\n",
       "    <tr>\n",
       "      <th>0</th>\n",
       "      <td>80</td>\n",
       "      <td>2019-01-27</td>\n",
       "      <td>06:00:00</td>\n",
       "      <td>35</td>\n",
       "      <td>F</td>\n",
       "      <td>HOMICÍDIO DOLOSO</td>\n",
       "    </tr>\n",
       "    <tr>\n",
       "      <th>1</th>\n",
       "      <td>79</td>\n",
       "      <td>2019-01-27</td>\n",
       "      <td>22:45:00</td>\n",
       "      <td>35</td>\n",
       "      <td>M</td>\n",
       "      <td>HOMICÍDIO DOLOSO</td>\n",
       "    </tr>\n",
       "  </tbody>\n",
       "</table>\n",
       "</div>"
      ],
      "text/plain": [
       "   id        data      hora  idade genero   descricao_crime\n",
       "0  80  2019-01-27  06:00:00     35      F  HOMICÍDIO DOLOSO\n",
       "1  79  2019-01-27  22:45:00     35      M  HOMICÍDIO DOLOSO"
      ]
     },
     "execution_count": 53,
     "metadata": {},
     "output_type": "execute_result"
    }
   ],
   "source": [
    "res3"
   ]
  },
  {
   "cell_type": "markdown",
   "metadata": {},
   "source": [
    "### ESTRUTURA DA BASE DE DADOS"
   ]
  },
  {
   "cell_type": "code",
   "execution_count": null,
   "metadata": {},
   "outputs": [],
   "source": [
    "    A tabela crime é a principal tabela do nosso sistema, através dela conseguimos obter informações como data, hora,\n",
    "tipo do crime, rua, bairro, cidade e a vitima. Primeiramente iremos mostrar a estrutura da tabela crime e de suas tabelas\n",
    "relacionadas."
   ]
  },
  {
   "cell_type": "code",
   "execution_count": 35,
   "metadata": {},
   "outputs": [],
   "source": [
    "crimes = pd.read_sql_query(\"\"\"SELECT * FROM crime  LIMIT 5\"\"\",conn)\n",
    "vitimas = pd.read_sql_query(\"\"\"SELECT * FROM vitima LIMIT 5\"\"\",conn)\n",
    "sexo = pd.read_sql_query(\"\"\"SELECT * FROM sexo\"\"\",conn)\n",
    "ruas = pd.read_sql_query(\"\"\"SELECT * FROM rua ORDER BY nome_rua ASC LIMIT 5\"\"\",conn)\n",
    "bairros = pd.read_sql_query(\"\"\"SELECT * FROM bairro ORDER BY nome_bairro ASC LIMIT 5\"\"\",conn)\n",
    "cidades = pd.read_sql_query(\"\"\"SELECT * FROM cidade ORDER BY nome_cidade ASC LIMIT 5\"\"\",conn)\n",
    "tipo_crime = pd.read_sql_query(\"\"\"SELECT * FROM tipo_crime\"\"\",conn)\n"
   ]
  },
  {
   "cell_type": "code",
   "execution_count": 36,
   "metadata": {
    "scrolled": false
   },
   "outputs": [
    {
     "data": {
      "text/html": [
       "<div>\n",
       "<style scoped>\n",
       "    .dataframe tbody tr th:only-of-type {\n",
       "        vertical-align: middle;\n",
       "    }\n",
       "\n",
       "    .dataframe tbody tr th {\n",
       "        vertical-align: top;\n",
       "    }\n",
       "\n",
       "    .dataframe thead th {\n",
       "        text-align: right;\n",
       "    }\n",
       "</style>\n",
       "<table border=\"1\" class=\"dataframe\">\n",
       "  <thead>\n",
       "    <tr style=\"text-align: right;\">\n",
       "      <th></th>\n",
       "      <th>id</th>\n",
       "      <th>data</th>\n",
       "      <th>hora</th>\n",
       "      <th>id_vitima</th>\n",
       "      <th>id_rua</th>\n",
       "      <th>id_bairro</th>\n",
       "      <th>id_cidade</th>\n",
       "      <th>id_tipo_crime</th>\n",
       "    </tr>\n",
       "  </thead>\n",
       "  <tbody>\n",
       "    <tr>\n",
       "      <th>0</th>\n",
       "      <td>1</td>\n",
       "      <td>2019-01-01</td>\n",
       "      <td>20:49:00</td>\n",
       "      <td>31</td>\n",
       "      <td>144</td>\n",
       "      <td>19</td>\n",
       "      <td>51</td>\n",
       "      <td>1</td>\n",
       "    </tr>\n",
       "    <tr>\n",
       "      <th>1</th>\n",
       "      <td>2</td>\n",
       "      <td>2019-01-01</td>\n",
       "      <td>00:00:00</td>\n",
       "      <td>32</td>\n",
       "      <td>153</td>\n",
       "      <td>16</td>\n",
       "      <td>77</td>\n",
       "      <td>1</td>\n",
       "    </tr>\n",
       "    <tr>\n",
       "      <th>2</th>\n",
       "      <td>3</td>\n",
       "      <td>2019-01-02</td>\n",
       "      <td>15:34:00</td>\n",
       "      <td>28</td>\n",
       "      <td>115</td>\n",
       "      <td>56</td>\n",
       "      <td>17</td>\n",
       "      <td>1</td>\n",
       "    </tr>\n",
       "    <tr>\n",
       "      <th>3</th>\n",
       "      <td>4</td>\n",
       "      <td>2019-01-02</td>\n",
       "      <td>16:01:00</td>\n",
       "      <td>7</td>\n",
       "      <td>78</td>\n",
       "      <td>81</td>\n",
       "      <td>70</td>\n",
       "      <td>1</td>\n",
       "    </tr>\n",
       "    <tr>\n",
       "      <th>4</th>\n",
       "      <td>5</td>\n",
       "      <td>2019-01-02</td>\n",
       "      <td>16:11:00</td>\n",
       "      <td>5</td>\n",
       "      <td>100</td>\n",
       "      <td>27</td>\n",
       "      <td>78</td>\n",
       "      <td>1</td>\n",
       "    </tr>\n",
       "  </tbody>\n",
       "</table>\n",
       "</div>"
      ],
      "text/plain": [
       "   id        data      hora  id_vitima  id_rua  id_bairro  id_cidade  \\\n",
       "0   1  2019-01-01  20:49:00         31     144         19         51   \n",
       "1   2  2019-01-01  00:00:00         32     153         16         77   \n",
       "2   3  2019-01-02  15:34:00         28     115         56         17   \n",
       "3   4  2019-01-02  16:01:00          7      78         81         70   \n",
       "4   5  2019-01-02  16:11:00          5     100         27         78   \n",
       "\n",
       "   id_tipo_crime  \n",
       "0              1  \n",
       "1              1  \n",
       "2              1  \n",
       "3              1  \n",
       "4              1  "
      ]
     },
     "execution_count": 36,
     "metadata": {},
     "output_type": "execute_result"
    }
   ],
   "source": [
    "crimes"
   ]
  },
  {
   "cell_type": "code",
   "execution_count": 37,
   "metadata": {},
   "outputs": [
    {
     "data": {
      "text/html": [
       "<div>\n",
       "<style scoped>\n",
       "    .dataframe tbody tr th:only-of-type {\n",
       "        vertical-align: middle;\n",
       "    }\n",
       "\n",
       "    .dataframe tbody tr th {\n",
       "        vertical-align: top;\n",
       "    }\n",
       "\n",
       "    .dataframe thead th {\n",
       "        text-align: right;\n",
       "    }\n",
       "</style>\n",
       "<table border=\"1\" class=\"dataframe\">\n",
       "  <thead>\n",
       "    <tr style=\"text-align: right;\">\n",
       "      <th></th>\n",
       "      <th>id</th>\n",
       "      <th>idade</th>\n",
       "      <th>id_sexo</th>\n",
       "    </tr>\n",
       "  </thead>\n",
       "  <tbody>\n",
       "    <tr>\n",
       "      <th>0</th>\n",
       "      <td>1</td>\n",
       "      <td>59</td>\n",
       "      <td>2</td>\n",
       "    </tr>\n",
       "    <tr>\n",
       "      <th>1</th>\n",
       "      <td>2</td>\n",
       "      <td>26</td>\n",
       "      <td>1</td>\n",
       "    </tr>\n",
       "    <tr>\n",
       "      <th>2</th>\n",
       "      <td>3</td>\n",
       "      <td>25</td>\n",
       "      <td>1</td>\n",
       "    </tr>\n",
       "    <tr>\n",
       "      <th>3</th>\n",
       "      <td>4</td>\n",
       "      <td>20</td>\n",
       "      <td>2</td>\n",
       "    </tr>\n",
       "    <tr>\n",
       "      <th>4</th>\n",
       "      <td>5</td>\n",
       "      <td>28</td>\n",
       "      <td>1</td>\n",
       "    </tr>\n",
       "  </tbody>\n",
       "</table>\n",
       "</div>"
      ],
      "text/plain": [
       "   id  idade  id_sexo\n",
       "0   1     59        2\n",
       "1   2     26        1\n",
       "2   3     25        1\n",
       "3   4     20        2\n",
       "4   5     28        1"
      ]
     },
     "execution_count": 37,
     "metadata": {},
     "output_type": "execute_result"
    }
   ],
   "source": [
    "vitimas"
   ]
  },
  {
   "cell_type": "code",
   "execution_count": 38,
   "metadata": {},
   "outputs": [
    {
     "data": {
      "text/html": [
       "<div>\n",
       "<style scoped>\n",
       "    .dataframe tbody tr th:only-of-type {\n",
       "        vertical-align: middle;\n",
       "    }\n",
       "\n",
       "    .dataframe tbody tr th {\n",
       "        vertical-align: top;\n",
       "    }\n",
       "\n",
       "    .dataframe thead th {\n",
       "        text-align: right;\n",
       "    }\n",
       "</style>\n",
       "<table border=\"1\" class=\"dataframe\">\n",
       "  <thead>\n",
       "    <tr style=\"text-align: right;\">\n",
       "      <th></th>\n",
       "      <th>id</th>\n",
       "      <th>genero</th>\n",
       "    </tr>\n",
       "  </thead>\n",
       "  <tbody>\n",
       "    <tr>\n",
       "      <th>0</th>\n",
       "      <td>1</td>\n",
       "      <td>M</td>\n",
       "    </tr>\n",
       "    <tr>\n",
       "      <th>1</th>\n",
       "      <td>2</td>\n",
       "      <td>F</td>\n",
       "    </tr>\n",
       "  </tbody>\n",
       "</table>\n",
       "</div>"
      ],
      "text/plain": [
       "   id genero\n",
       "0   1      M\n",
       "1   2      F"
      ]
     },
     "execution_count": 38,
     "metadata": {},
     "output_type": "execute_result"
    }
   ],
   "source": [
    "sexo"
   ]
  },
  {
   "cell_type": "code",
   "execution_count": 39,
   "metadata": {},
   "outputs": [
    {
     "data": {
      "text/html": [
       "<div>\n",
       "<style scoped>\n",
       "    .dataframe tbody tr th:only-of-type {\n",
       "        vertical-align: middle;\n",
       "    }\n",
       "\n",
       "    .dataframe tbody tr th {\n",
       "        vertical-align: top;\n",
       "    }\n",
       "\n",
       "    .dataframe thead th {\n",
       "        text-align: right;\n",
       "    }\n",
       "</style>\n",
       "<table border=\"1\" class=\"dataframe\">\n",
       "  <thead>\n",
       "    <tr style=\"text-align: right;\">\n",
       "      <th></th>\n",
       "      <th>id</th>\n",
       "      <th>nome_rua</th>\n",
       "      <th>quantidade_crimes</th>\n",
       "      <th>id_classificacao</th>\n",
       "      <th>id_bairro</th>\n",
       "      <th>id_cidade</th>\n",
       "    </tr>\n",
       "  </thead>\n",
       "  <tbody>\n",
       "    <tr>\n",
       "      <th>0</th>\n",
       "      <td>88</td>\n",
       "      <td>AV  FERNANDO JOGAIDER</td>\n",
       "      <td>1</td>\n",
       "      <td>2</td>\n",
       "      <td>75</td>\n",
       "      <td>68</td>\n",
       "    </tr>\n",
       "    <tr>\n",
       "      <th>1</th>\n",
       "      <td>49</td>\n",
       "      <td>AV ANESIO JOSE SIMOES</td>\n",
       "      <td>1</td>\n",
       "      <td>2</td>\n",
       "      <td>16</td>\n",
       "      <td>77</td>\n",
       "    </tr>\n",
       "    <tr>\n",
       "      <th>2</th>\n",
       "      <td>160</td>\n",
       "      <td>AV CARLOS LINDENBERG</td>\n",
       "      <td>1</td>\n",
       "      <td>2</td>\n",
       "      <td>61</td>\n",
       "      <td>77</td>\n",
       "    </tr>\n",
       "    <tr>\n",
       "      <th>3</th>\n",
       "      <td>108</td>\n",
       "      <td>AV FRANCA</td>\n",
       "      <td>2</td>\n",
       "      <td>3</td>\n",
       "      <td>5</td>\n",
       "      <td>77</td>\n",
       "    </tr>\n",
       "    <tr>\n",
       "      <th>4</th>\n",
       "      <td>163</td>\n",
       "      <td>AV LOURIVAL NUNES</td>\n",
       "      <td>1</td>\n",
       "      <td>2</td>\n",
       "      <td>26</td>\n",
       "      <td>70</td>\n",
       "    </tr>\n",
       "  </tbody>\n",
       "</table>\n",
       "</div>"
      ],
      "text/plain": [
       "    id               nome_rua  quantidade_crimes  id_classificacao  id_bairro  \\\n",
       "0   88  AV  FERNANDO JOGAIDER                  1                 2         75   \n",
       "1   49  AV ANESIO JOSE SIMOES                  1                 2         16   \n",
       "2  160   AV CARLOS LINDENBERG                  1                 2         61   \n",
       "3  108              AV FRANCA                  2                 3          5   \n",
       "4  163      AV LOURIVAL NUNES                  1                 2         26   \n",
       "\n",
       "   id_cidade  \n",
       "0         68  \n",
       "1         77  \n",
       "2         77  \n",
       "3         77  \n",
       "4         70  "
      ]
     },
     "execution_count": 39,
     "metadata": {},
     "output_type": "execute_result"
    }
   ],
   "source": [
    "ruas"
   ]
  },
  {
   "cell_type": "code",
   "execution_count": 40,
   "metadata": {},
   "outputs": [
    {
     "data": {
      "text/html": [
       "<div>\n",
       "<style scoped>\n",
       "    .dataframe tbody tr th:only-of-type {\n",
       "        vertical-align: middle;\n",
       "    }\n",
       "\n",
       "    .dataframe tbody tr th {\n",
       "        vertical-align: top;\n",
       "    }\n",
       "\n",
       "    .dataframe thead th {\n",
       "        text-align: right;\n",
       "    }\n",
       "</style>\n",
       "<table border=\"1\" class=\"dataframe\">\n",
       "  <thead>\n",
       "    <tr style=\"text-align: right;\">\n",
       "      <th></th>\n",
       "      <th>id</th>\n",
       "      <th>nome_bairro</th>\n",
       "      <th>id_cidade</th>\n",
       "    </tr>\n",
       "  </thead>\n",
       "  <tbody>\n",
       "    <tr>\n",
       "      <th>0</th>\n",
       "      <td>70</td>\n",
       "      <td>ALTOE</td>\n",
       "      <td>53</td>\n",
       "    </tr>\n",
       "    <tr>\n",
       "      <th>1</th>\n",
       "      <td>17</td>\n",
       "      <td>ALZIRA RAMOS</td>\n",
       "      <td>17</td>\n",
       "    </tr>\n",
       "    <tr>\n",
       "      <th>2</th>\n",
       "      <td>15</td>\n",
       "      <td>ANGELA DEPOLLO</td>\n",
       "      <td>49</td>\n",
       "    </tr>\n",
       "    <tr>\n",
       "      <th>3</th>\n",
       "      <td>18</td>\n",
       "      <td>ARIBIRI</td>\n",
       "      <td>77</td>\n",
       "    </tr>\n",
       "    <tr>\n",
       "      <th>4</th>\n",
       "      <td>74</td>\n",
       "      <td>BARRA DE SAO FRANCISCO</td>\n",
       "      <td>12</td>\n",
       "    </tr>\n",
       "  </tbody>\n",
       "</table>\n",
       "</div>"
      ],
      "text/plain": [
       "   id             nome_bairro  id_cidade\n",
       "0  70                   ALTOE         53\n",
       "1  17            ALZIRA RAMOS         17\n",
       "2  15          ANGELA DEPOLLO         49\n",
       "3  18                 ARIBIRI         77\n",
       "4  74  BARRA DE SAO FRANCISCO         12"
      ]
     },
     "execution_count": 40,
     "metadata": {},
     "output_type": "execute_result"
    }
   ],
   "source": [
    "bairros"
   ]
  },
  {
   "cell_type": "code",
   "execution_count": 41,
   "metadata": {},
   "outputs": [
    {
     "data": {
      "text/html": [
       "<div>\n",
       "<style scoped>\n",
       "    .dataframe tbody tr th:only-of-type {\n",
       "        vertical-align: middle;\n",
       "    }\n",
       "\n",
       "    .dataframe tbody tr th {\n",
       "        vertical-align: top;\n",
       "    }\n",
       "\n",
       "    .dataframe thead th {\n",
       "        text-align: right;\n",
       "    }\n",
       "</style>\n",
       "<table border=\"1\" class=\"dataframe\">\n",
       "  <thead>\n",
       "    <tr style=\"text-align: right;\">\n",
       "      <th></th>\n",
       "      <th>id</th>\n",
       "      <th>nome_cidade</th>\n",
       "    </tr>\n",
       "  </thead>\n",
       "  <tbody>\n",
       "    <tr>\n",
       "      <th>0</th>\n",
       "      <td>1</td>\n",
       "      <td>AFONSO CLAUDIO</td>\n",
       "    </tr>\n",
       "    <tr>\n",
       "      <th>1</th>\n",
       "      <td>3</td>\n",
       "      <td>AGUA DOCE DO NORTE</td>\n",
       "    </tr>\n",
       "    <tr>\n",
       "      <th>2</th>\n",
       "      <td>2</td>\n",
       "      <td>AGUIA BRANCA</td>\n",
       "    </tr>\n",
       "    <tr>\n",
       "      <th>3</th>\n",
       "      <td>4</td>\n",
       "      <td>ALEGRE</td>\n",
       "    </tr>\n",
       "    <tr>\n",
       "      <th>4</th>\n",
       "      <td>5</td>\n",
       "      <td>ALFREDO CHAVES</td>\n",
       "    </tr>\n",
       "  </tbody>\n",
       "</table>\n",
       "</div>"
      ],
      "text/plain": [
       "   id         nome_cidade\n",
       "0   1      AFONSO CLAUDIO\n",
       "1   3  AGUA DOCE DO NORTE\n",
       "2   2        AGUIA BRANCA\n",
       "3   4              ALEGRE\n",
       "4   5      ALFREDO CHAVES"
      ]
     },
     "execution_count": 41,
     "metadata": {},
     "output_type": "execute_result"
    }
   ],
   "source": [
    "cidades"
   ]
  },
  {
   "cell_type": "code",
   "execution_count": 43,
   "metadata": {},
   "outputs": [
    {
     "data": {
      "text/html": [
       "<div>\n",
       "<style scoped>\n",
       "    .dataframe tbody tr th:only-of-type {\n",
       "        vertical-align: middle;\n",
       "    }\n",
       "\n",
       "    .dataframe tbody tr th {\n",
       "        vertical-align: top;\n",
       "    }\n",
       "\n",
       "    .dataframe thead th {\n",
       "        text-align: right;\n",
       "    }\n",
       "</style>\n",
       "<table border=\"1\" class=\"dataframe\">\n",
       "  <thead>\n",
       "    <tr style=\"text-align: right;\">\n",
       "      <th></th>\n",
       "      <th>id</th>\n",
       "      <th>descricao_crime</th>\n",
       "    </tr>\n",
       "  </thead>\n",
       "  <tbody>\n",
       "    <tr>\n",
       "      <th>0</th>\n",
       "      <td>1</td>\n",
       "      <td>HOMICÍDIO DOLOSO</td>\n",
       "    </tr>\n",
       "    <tr>\n",
       "      <th>1</th>\n",
       "      <td>2</td>\n",
       "      <td>LATROCÍNIO</td>\n",
       "    </tr>\n",
       "    <tr>\n",
       "      <th>2</th>\n",
       "      <td>3</td>\n",
       "      <td>LESÃO CORPORAL SEGUIDO DE MORTE</td>\n",
       "    </tr>\n",
       "  </tbody>\n",
       "</table>\n",
       "</div>"
      ],
      "text/plain": [
       "   id                  descricao_crime\n",
       "0   1                 HOMICÍDIO DOLOSO\n",
       "1   2                       LATROCÍNIO\n",
       "2   3  LESÃO CORPORAL SEGUIDO DE MORTE"
      ]
     },
     "execution_count": 43,
     "metadata": {},
     "output_type": "execute_result"
    }
   ],
   "source": [
    "tipo_crime"
   ]
  },
  {
   "cell_type": "markdown",
   "metadata": {},
   "source": [
    "### LEVANTAMENTO DE ESTATISTICAS RELACIONADAS AOS CRIMES"
   ]
  },
  {
   "cell_type": "code",
   "execution_count": 15,
   "metadata": {},
   "outputs": [],
   "source": [
    "adolescentes = pd.read_sql_query(\"\"\"SELECT cr.id,cr.data,cr.hora,vi.idade,se.genero,tc.descricao_crime FROM crime cr \n",
    "                            INNER JOIN vitima vi ON(cr.id_vitima =vi.id)\n",
    "                            INNER JOIN tipo_crime tc ON(cr.id_tipo_crime = tc.id)\n",
    "                            INNER JOIN sexo se ON(se.id = vi.id_sexo)\n",
    "                            WHERE id_vitima IN(SELECT id FROM vitima WHERE idade < 18)\"\"\",conn)\n",
    "\n",
    "qtd_adolescentes = pd.read_sql_query(\"\"\"SELECT COUNT(*) AS qtd_adolescentes FROM crime cr\n",
    "                                INNER JOIN vitima vi ON(cr.id_vitima = vi.id)\n",
    "                                WHERE idade < 18\"\"\",conn)\n",
    "\n",
    "idosos = pd.read_sql_query(\"\"\"SELECT cr.id,cr.data,cr.hora,vi.idade,se.genero,tc.descricao_crime FROM crime cr \n",
    "                            INNER JOIN vitima vi ON(cr.id_vitima =vi.id)\n",
    "                            INNER JOIN tipo_crime tc ON(cr.id_tipo_crime = tc.id)\n",
    "                            INNER JOIN sexo se ON(se.id = vi.id_sexo)\n",
    "                            WHERE id_vitima IN(SELECT id FROM vitima WHERE idade > 60)\"\"\",conn)\n",
    "\n",
    "qtd_idosos = pd.read_sql_query(\"\"\"SELECT COUNT(*) AS qtd_idosos FROM crime cr\n",
    "                                INNER JOIN vitima vi ON(cr.id_vitima = vi.id)\n",
    "                                WHERE idade > 60\"\"\",conn)\n",
    "\n",
    "\n",
    "mulheres = pd.read_sql_query(\"\"\"SELECT cr.id,cr.data,cr.hora,vi.idade,se.genero,tc.descricao_crime FROM crime cr \n",
    "                            INNER JOIN vitima vi ON(cr.id_vitima =vi.id)\n",
    "                            INNER JOIN tipo_crime tc ON(cr.id_tipo_crime = tc.id)\n",
    "                            INNER JOIN sexo se ON(se.id = vi.id_sexo)\n",
    "                            WHERE id_vitima IN(SELECT id FROM vitima WHERE id_sexo = 2)\"\"\",conn)\n",
    "\n",
    "qtd_mulheres = pd.read_sql_query(\"\"\"SELECT COUNT(*) AS qtd_mulheres FROM crime cr\n",
    "                                INNER JOIN vitima vi ON(cr.id_vitima = vi.id)\n",
    "                                WHERE id_sexo = 2\"\"\",conn)\n",
    "\n",
    "qtd_homens = pd.read_sql_query(\"\"\"SELECT COUNT(*) AS qtd_homens FROM crime cr\n",
    "                                INNER JOIN vitima vi ON(cr.id_vitima = vi.id)\n",
    "                                WHERE id_sexo = 1\"\"\",conn)\n",
    "\n",
    "total = pd.read_sql_query(\"\"\"SELECT COUNT(*) AS total FROM crime;\"\"\",conn)\n",
    "\n",
    "relacao1 = pd.read_sql_query(\"\"\"SELECT \n",
    "                        (SELECT COUNT(*) FROM crime cr INNER JOIN vitima vi ON(cr.id_vitima = vi.id) WHERE id_sexo = 1) AS qtd_homens,\n",
    "                        (SELECT COUNT(*) FROM crime cr INNER JOIN vitima vi ON(cr.id_vitima = vi.id) WHERE id_sexo = 2) AS qtd_mulheres,\n",
    "                        (SELECT COUNT(*) FROM crime) AS total\n",
    "                        FROM crime WHERE id=1;\"\"\",conn)\n",
    "\n",
    "relacao2 = pd.read_sql_query(\"\"\"SELECT \n",
    "                        (SELECT COUNT(*) FROM crime cr INNER JOIN vitima vi ON(cr.id_vitima = vi.id) WHERE idade < 18) AS qtd_adolescentes,\n",
    "                        (SELECT COUNT(*) FROM crime cr INNER JOIN vitima vi ON(cr.id_vitima = vi.id) WHERE idade > 60) AS qtd_idosos,\n",
    "                        (SELECT COUNT(*) FROM crime) AS total\n",
    "                        FROM crime WHERE id=1;\"\"\",conn)\n",
    "\n"
   ]
  },
  {
   "cell_type": "markdown",
   "metadata": {},
   "source": [
    "#### REGISTRO DAS VITIMAS COM IDADE INFERIOR A 18 ANOS"
   ]
  },
  {
   "cell_type": "code",
   "execution_count": 6,
   "metadata": {
    "scrolled": true
   },
   "outputs": [
    {
     "data": {
      "text/html": [
       "<div>\n",
       "<style scoped>\n",
       "    .dataframe tbody tr th:only-of-type {\n",
       "        vertical-align: middle;\n",
       "    }\n",
       "\n",
       "    .dataframe tbody tr th {\n",
       "        vertical-align: top;\n",
       "    }\n",
       "\n",
       "    .dataframe thead th {\n",
       "        text-align: right;\n",
       "    }\n",
       "</style>\n",
       "<table border=\"1\" class=\"dataframe\">\n",
       "  <thead>\n",
       "    <tr style=\"text-align: right;\">\n",
       "      <th></th>\n",
       "      <th>id</th>\n",
       "      <th>data</th>\n",
       "      <th>hora</th>\n",
       "      <th>idade</th>\n",
       "      <th>genero</th>\n",
       "      <th>descricao_crime</th>\n",
       "    </tr>\n",
       "  </thead>\n",
       "  <tbody>\n",
       "    <tr>\n",
       "      <th>0</th>\n",
       "      <td>34</td>\n",
       "      <td>2019-01-13</td>\n",
       "      <td>13:34:00</td>\n",
       "      <td>14</td>\n",
       "      <td>M</td>\n",
       "      <td>HOMICÍDIO DOLOSO</td>\n",
       "    </tr>\n",
       "    <tr>\n",
       "      <th>1</th>\n",
       "      <td>63</td>\n",
       "      <td>2019-01-21</td>\n",
       "      <td>17:10:00</td>\n",
       "      <td>16</td>\n",
       "      <td>M</td>\n",
       "      <td>HOMICÍDIO DOLOSO</td>\n",
       "    </tr>\n",
       "    <tr>\n",
       "      <th>2</th>\n",
       "      <td>69</td>\n",
       "      <td>2019-01-23</td>\n",
       "      <td>21:01:00</td>\n",
       "      <td>17</td>\n",
       "      <td>M</td>\n",
       "      <td>HOMICÍDIO DOLOSO</td>\n",
       "    </tr>\n",
       "    <tr>\n",
       "      <th>3</th>\n",
       "      <td>73</td>\n",
       "      <td>2019-01-26</td>\n",
       "      <td>05:44:00</td>\n",
       "      <td>16</td>\n",
       "      <td>M</td>\n",
       "      <td>HOMICÍDIO DOLOSO</td>\n",
       "    </tr>\n",
       "    <tr>\n",
       "      <th>4</th>\n",
       "      <td>87</td>\n",
       "      <td>2019-01-28</td>\n",
       "      <td>02:06:00</td>\n",
       "      <td>17</td>\n",
       "      <td>M</td>\n",
       "      <td>HOMICÍDIO DOLOSO</td>\n",
       "    </tr>\n",
       "    <tr>\n",
       "      <th>5</th>\n",
       "      <td>93</td>\n",
       "      <td>2019-01-30</td>\n",
       "      <td>18:46:00</td>\n",
       "      <td>17</td>\n",
       "      <td>M</td>\n",
       "      <td>HOMICÍDIO DOLOSO</td>\n",
       "    </tr>\n",
       "  </tbody>\n",
       "</table>\n",
       "</div>"
      ],
      "text/plain": [
       "   id        data      hora  idade genero   descricao_crime\n",
       "0  34  2019-01-13  13:34:00     14      M  HOMICÍDIO DOLOSO\n",
       "1  63  2019-01-21  17:10:00     16      M  HOMICÍDIO DOLOSO\n",
       "2  69  2019-01-23  21:01:00     17      M  HOMICÍDIO DOLOSO\n",
       "3  73  2019-01-26  05:44:00     16      M  HOMICÍDIO DOLOSO\n",
       "4  87  2019-01-28  02:06:00     17      M  HOMICÍDIO DOLOSO\n",
       "5  93  2019-01-30  18:46:00     17      M  HOMICÍDIO DOLOSO"
      ]
     },
     "execution_count": 6,
     "metadata": {},
     "output_type": "execute_result"
    }
   ],
   "source": [
    "adolescentes"
   ]
  },
  {
   "cell_type": "markdown",
   "metadata": {},
   "source": [
    "#### REGISTRO DAS VITIMAS COM IDADE SUPERIOR A 60 ANOS"
   ]
  },
  {
   "cell_type": "code",
   "execution_count": 7,
   "metadata": {},
   "outputs": [
    {
     "data": {
      "text/html": [
       "<div>\n",
       "<style scoped>\n",
       "    .dataframe tbody tr th:only-of-type {\n",
       "        vertical-align: middle;\n",
       "    }\n",
       "\n",
       "    .dataframe tbody tr th {\n",
       "        vertical-align: top;\n",
       "    }\n",
       "\n",
       "    .dataframe thead th {\n",
       "        text-align: right;\n",
       "    }\n",
       "</style>\n",
       "<table border=\"1\" class=\"dataframe\">\n",
       "  <thead>\n",
       "    <tr style=\"text-align: right;\">\n",
       "      <th></th>\n",
       "      <th>id</th>\n",
       "      <th>data</th>\n",
       "      <th>hora</th>\n",
       "      <th>idade</th>\n",
       "      <th>genero</th>\n",
       "      <th>descricao_crime</th>\n",
       "    </tr>\n",
       "  </thead>\n",
       "  <tbody>\n",
       "    <tr>\n",
       "      <th>0</th>\n",
       "      <td>48</td>\n",
       "      <td>2019-01-17</td>\n",
       "      <td>22:18:00</td>\n",
       "      <td>62</td>\n",
       "      <td>M</td>\n",
       "      <td>LATROCÍNIO</td>\n",
       "    </tr>\n",
       "    <tr>\n",
       "      <th>1</th>\n",
       "      <td>55</td>\n",
       "      <td>2019-01-19</td>\n",
       "      <td>08:14:00</td>\n",
       "      <td>65</td>\n",
       "      <td>M</td>\n",
       "      <td>LATROCÍNIO</td>\n",
       "    </tr>\n",
       "    <tr>\n",
       "      <th>2</th>\n",
       "      <td>64</td>\n",
       "      <td>2019-01-21</td>\n",
       "      <td>22:28:00</td>\n",
       "      <td>64</td>\n",
       "      <td>F</td>\n",
       "      <td>HOMICÍDIO DOLOSO</td>\n",
       "    </tr>\n",
       "    <tr>\n",
       "      <th>3</th>\n",
       "      <td>99</td>\n",
       "      <td>2019-01-31</td>\n",
       "      <td>17:56:00</td>\n",
       "      <td>73</td>\n",
       "      <td>M</td>\n",
       "      <td>HOMICÍDIO DOLOSO</td>\n",
       "    </tr>\n",
       "  </tbody>\n",
       "</table>\n",
       "</div>"
      ],
      "text/plain": [
       "   id        data      hora  idade genero   descricao_crime\n",
       "0  48  2019-01-17  22:18:00     62      M        LATROCÍNIO\n",
       "1  55  2019-01-19  08:14:00     65      M        LATROCÍNIO\n",
       "2  64  2019-01-21  22:28:00     64      F  HOMICÍDIO DOLOSO\n",
       "3  99  2019-01-31  17:56:00     73      M  HOMICÍDIO DOLOSO"
      ]
     },
     "execution_count": 7,
     "metadata": {},
     "output_type": "execute_result"
    }
   ],
   "source": [
    "idosos"
   ]
  },
  {
   "cell_type": "markdown",
   "metadata": {},
   "source": [
    "#### QUANTIDADE DE VITIMAS COM IDADE INFERIOR A 18 ANOS(ADOLESCENTES) E COM IDADE SUPERIOR A 60 ANOS(IDOSOS)\n"
   ]
  },
  {
   "cell_type": "code",
   "execution_count": 16,
   "metadata": {},
   "outputs": [
    {
     "data": {
      "text/html": [
       "<div>\n",
       "<style scoped>\n",
       "    .dataframe tbody tr th:only-of-type {\n",
       "        vertical-align: middle;\n",
       "    }\n",
       "\n",
       "    .dataframe tbody tr th {\n",
       "        vertical-align: top;\n",
       "    }\n",
       "\n",
       "    .dataframe thead th {\n",
       "        text-align: right;\n",
       "    }\n",
       "</style>\n",
       "<table border=\"1\" class=\"dataframe\">\n",
       "  <thead>\n",
       "    <tr style=\"text-align: right;\">\n",
       "      <th></th>\n",
       "      <th>qtd_adolescentes</th>\n",
       "      <th>qtd_idosos</th>\n",
       "      <th>total</th>\n",
       "    </tr>\n",
       "  </thead>\n",
       "  <tbody>\n",
       "    <tr>\n",
       "      <th>0</th>\n",
       "      <td>6</td>\n",
       "      <td>4</td>\n",
       "      <td>100</td>\n",
       "    </tr>\n",
       "  </tbody>\n",
       "</table>\n",
       "</div>"
      ],
      "text/plain": [
       "   qtd_adolescentes  qtd_idosos  total\n",
       "0                 6           4    100"
      ]
     },
     "execution_count": 16,
     "metadata": {},
     "output_type": "execute_result"
    }
   ],
   "source": [
    "relacao2"
   ]
  },
  {
   "cell_type": "markdown",
   "metadata": {},
   "source": [
    "#### REGISTRO DAS VITIMAS DO SEXO FEMININO"
   ]
  },
  {
   "cell_type": "code",
   "execution_count": 8,
   "metadata": {},
   "outputs": [
    {
     "data": {
      "text/html": [
       "<div>\n",
       "<style scoped>\n",
       "    .dataframe tbody tr th:only-of-type {\n",
       "        vertical-align: middle;\n",
       "    }\n",
       "\n",
       "    .dataframe tbody tr th {\n",
       "        vertical-align: top;\n",
       "    }\n",
       "\n",
       "    .dataframe thead th {\n",
       "        text-align: right;\n",
       "    }\n",
       "</style>\n",
       "<table border=\"1\" class=\"dataframe\">\n",
       "  <thead>\n",
       "    <tr style=\"text-align: right;\">\n",
       "      <th></th>\n",
       "      <th>id</th>\n",
       "      <th>data</th>\n",
       "      <th>hora</th>\n",
       "      <th>idade</th>\n",
       "      <th>genero</th>\n",
       "      <th>descricao_crime</th>\n",
       "    </tr>\n",
       "  </thead>\n",
       "  <tbody>\n",
       "    <tr>\n",
       "      <th>0</th>\n",
       "      <td>2</td>\n",
       "      <td>2019-01-01</td>\n",
       "      <td>00:00:00</td>\n",
       "      <td>35</td>\n",
       "      <td>F</td>\n",
       "      <td>HOMICÍDIO DOLOSO</td>\n",
       "    </tr>\n",
       "    <tr>\n",
       "      <th>1</th>\n",
       "      <td>3</td>\n",
       "      <td>2019-01-02</td>\n",
       "      <td>15:34:00</td>\n",
       "      <td>32</td>\n",
       "      <td>F</td>\n",
       "      <td>HOMICÍDIO DOLOSO</td>\n",
       "    </tr>\n",
       "    <tr>\n",
       "      <th>2</th>\n",
       "      <td>45</td>\n",
       "      <td>2019-01-15</td>\n",
       "      <td>22:32:00</td>\n",
       "      <td>36</td>\n",
       "      <td>F</td>\n",
       "      <td>HOMICÍDIO DOLOSO</td>\n",
       "    </tr>\n",
       "    <tr>\n",
       "      <th>3</th>\n",
       "      <td>64</td>\n",
       "      <td>2019-01-21</td>\n",
       "      <td>22:28:00</td>\n",
       "      <td>64</td>\n",
       "      <td>F</td>\n",
       "      <td>HOMICÍDIO DOLOSO</td>\n",
       "    </tr>\n",
       "    <tr>\n",
       "      <th>4</th>\n",
       "      <td>70</td>\n",
       "      <td>2019-01-24</td>\n",
       "      <td>00:13:00</td>\n",
       "      <td>36</td>\n",
       "      <td>F</td>\n",
       "      <td>HOMICÍDIO DOLOSO</td>\n",
       "    </tr>\n",
       "    <tr>\n",
       "      <th>5</th>\n",
       "      <td>71</td>\n",
       "      <td>2019-01-24</td>\n",
       "      <td>15:56:00</td>\n",
       "      <td>20</td>\n",
       "      <td>F</td>\n",
       "      <td>LATROCÍNIO</td>\n",
       "    </tr>\n",
       "    <tr>\n",
       "      <th>6</th>\n",
       "      <td>80</td>\n",
       "      <td>2019-01-27</td>\n",
       "      <td>06:00:00</td>\n",
       "      <td>35</td>\n",
       "      <td>F</td>\n",
       "      <td>HOMICÍDIO DOLOSO</td>\n",
       "    </tr>\n",
       "    <tr>\n",
       "      <th>7</th>\n",
       "      <td>98</td>\n",
       "      <td>2019-01-30</td>\n",
       "      <td>12:00:00</td>\n",
       "      <td>59</td>\n",
       "      <td>F</td>\n",
       "      <td>HOMICÍDIO DOLOSO</td>\n",
       "    </tr>\n",
       "  </tbody>\n",
       "</table>\n",
       "</div>"
      ],
      "text/plain": [
       "   id        data      hora  idade genero   descricao_crime\n",
       "0   2  2019-01-01  00:00:00     35      F  HOMICÍDIO DOLOSO\n",
       "1   3  2019-01-02  15:34:00     32      F  HOMICÍDIO DOLOSO\n",
       "2  45  2019-01-15  22:32:00     36      F  HOMICÍDIO DOLOSO\n",
       "3  64  2019-01-21  22:28:00     64      F  HOMICÍDIO DOLOSO\n",
       "4  70  2019-01-24  00:13:00     36      F  HOMICÍDIO DOLOSO\n",
       "5  71  2019-01-24  15:56:00     20      F        LATROCÍNIO\n",
       "6  80  2019-01-27  06:00:00     35      F  HOMICÍDIO DOLOSO\n",
       "7  98  2019-01-30  12:00:00     59      F  HOMICÍDIO DOLOSO"
      ]
     },
     "execution_count": 8,
     "metadata": {},
     "output_type": "execute_result"
    }
   ],
   "source": [
    "mulheres"
   ]
  },
  {
   "cell_type": "markdown",
   "metadata": {},
   "source": [
    "#### QUANTIDADE DE VITIMAS DO SEXO MASCULINO E DO SEXO FEMININO REGISTRADOS"
   ]
  },
  {
   "cell_type": "code",
   "execution_count": 14,
   "metadata": {},
   "outputs": [
    {
     "data": {
      "text/html": [
       "<div>\n",
       "<style scoped>\n",
       "    .dataframe tbody tr th:only-of-type {\n",
       "        vertical-align: middle;\n",
       "    }\n",
       "\n",
       "    .dataframe tbody tr th {\n",
       "        vertical-align: top;\n",
       "    }\n",
       "\n",
       "    .dataframe thead th {\n",
       "        text-align: right;\n",
       "    }\n",
       "</style>\n",
       "<table border=\"1\" class=\"dataframe\">\n",
       "  <thead>\n",
       "    <tr style=\"text-align: right;\">\n",
       "      <th></th>\n",
       "      <th>qtd_homens</th>\n",
       "      <th>qtd_mulheres</th>\n",
       "      <th>total</th>\n",
       "    </tr>\n",
       "  </thead>\n",
       "  <tbody>\n",
       "    <tr>\n",
       "      <th>0</th>\n",
       "      <td>92</td>\n",
       "      <td>8</td>\n",
       "      <td>100</td>\n",
       "    </tr>\n",
       "  </tbody>\n",
       "</table>\n",
       "</div>"
      ],
      "text/plain": [
       "   qtd_homens  qtd_mulheres  total\n",
       "0          92             8    100"
      ]
     },
     "execution_count": 14,
     "metadata": {},
     "output_type": "execute_result"
    }
   ],
   "source": [
    "relacao1"
   ]
  },
  {
   "cell_type": "code",
   "execution_count": null,
   "metadata": {},
   "outputs": [],
   "source": [
    "import seaborn as sns\n",
    "sns.barplot(x=\"num_crimes\", y=\"descricao_crime\",data=df,orient='h')"
   ]
  },
  {
   "cell_type": "markdown",
   "metadata": {},
   "source": [
    "### QUANTIDADE DE CRIMES POR TIPO DE OCORRÊNCIA:"
   ]
  },
  {
   "cell_type": "code",
   "execution_count": 3,
   "metadata": {},
   "outputs": [],
   "source": [
    "tipos = pd.read_sql_query(\"\"\"select tc.descricao_crime,count(cr.id_tipo_crime) as num_crimes from crime cr \n",
    "inner join tipo_crime tc on(cr.id_tipo_crime = tc.id)\n",
    "group by cr.id_tipo_crime,tc.id\"\"\",conn)"
   ]
  },
  {
   "cell_type": "code",
   "execution_count": 4,
   "metadata": {},
   "outputs": [
    {
     "data": {
      "text/html": [
       "<div>\n",
       "<style scoped>\n",
       "    .dataframe tbody tr th:only-of-type {\n",
       "        vertical-align: middle;\n",
       "    }\n",
       "\n",
       "    .dataframe tbody tr th {\n",
       "        vertical-align: top;\n",
       "    }\n",
       "\n",
       "    .dataframe thead th {\n",
       "        text-align: right;\n",
       "    }\n",
       "</style>\n",
       "<table border=\"1\" class=\"dataframe\">\n",
       "  <thead>\n",
       "    <tr style=\"text-align: right;\">\n",
       "      <th></th>\n",
       "      <th>descricao_crime</th>\n",
       "      <th>num_crimes</th>\n",
       "    </tr>\n",
       "  </thead>\n",
       "  <tbody>\n",
       "    <tr>\n",
       "      <th>0</th>\n",
       "      <td>HOMICÍDIO DOLOSO</td>\n",
       "      <td>87</td>\n",
       "    </tr>\n",
       "    <tr>\n",
       "      <th>1</th>\n",
       "      <td>LESÃO CORPORAL SEGUIDO DE MORTE</td>\n",
       "      <td>2</td>\n",
       "    </tr>\n",
       "    <tr>\n",
       "      <th>2</th>\n",
       "      <td>LATROCÍNIO</td>\n",
       "      <td>11</td>\n",
       "    </tr>\n",
       "  </tbody>\n",
       "</table>\n",
       "</div>"
      ],
      "text/plain": [
       "                   descricao_crime  num_crimes\n",
       "0                 HOMICÍDIO DOLOSO          87\n",
       "1  LESÃO CORPORAL SEGUIDO DE MORTE           2\n",
       "2                       LATROCÍNIO          11"
      ]
     },
     "execution_count": 4,
     "metadata": {},
     "output_type": "execute_result"
    }
   ],
   "source": [
    "tipos"
   ]
  },
  {
   "cell_type": "code",
   "execution_count": 27,
   "metadata": {},
   "outputs": [],
   "source": [
    "df = pd.DataFrame(tipos)"
   ]
  },
  {
   "cell_type": "code",
   "execution_count": 28,
   "metadata": {},
   "outputs": [
    {
     "data": {
      "text/plain": [
       "<matplotlib.axes._subplots.AxesSubplot at 0xea9210>"
      ]
     },
     "execution_count": 28,
     "metadata": {},
     "output_type": "execute_result"
    },
    {
     "data": {
      "image/png": "[encoded data removed]",
      "text/plain": [
       "<Figure size 432x288 with 1 Axes>"
      ]
     },
     "metadata": {
      "needs_background": "light"
     },
     "output_type": "display_data"
    }
   ],
   "source": [
    "import seaborn as sns\n",
    "sns.barplot(x=\"num_crimes\", y=\"descricao_crime\",data=df,orient='h')"
   ]
  },
  {
   "cell_type": "markdown",
   "metadata": {},
   "source": [
    "### CIDADES COM MAIS CRIMES REGISTRADOS:"
   ]
  },
  {
   "cell_type": "code",
   "execution_count": 3,
   "metadata": {},
   "outputs": [],
   "source": [
    "cidades_perigosas = pd.read_sql_query(\"\"\"\n",
    "                            SELECT cr.id_cidade,ci.nome_cidade,count(cr.id_cidade) as num_crimes FROM crime cr\n",
    "                            INNER JOIN cidade ci on(cr.id_cidade = ci.id) GROUP BY cr.id_cidade,ci.nome_cidade \n",
    "                            ORDER BY count(*) DESC LIMIT(5)\n",
    "\n",
    "                            \"\"\",conn)"
   ]
  },
  {
   "cell_type": "code",
   "execution_count": 4,
   "metadata": {},
   "outputs": [
    {
     "data": {
      "text/html": [
       "<div>\n",
       "<style scoped>\n",
       "    .dataframe tbody tr th:only-of-type {\n",
       "        vertical-align: middle;\n",
       "    }\n",
       "\n",
       "    .dataframe tbody tr th {\n",
       "        vertical-align: top;\n",
       "    }\n",
       "\n",
       "    .dataframe thead th {\n",
       "        text-align: right;\n",
       "    }\n",
       "</style>\n",
       "<table border=\"1\" class=\"dataframe\">\n",
       "  <thead>\n",
       "    <tr style=\"text-align: right;\">\n",
       "      <th></th>\n",
       "      <th>id_cidade</th>\n",
       "      <th>nome_cidade</th>\n",
       "      <th>num_crimes</th>\n",
       "    </tr>\n",
       "  </thead>\n",
       "  <tbody>\n",
       "    <tr>\n",
       "      <th>0</th>\n",
       "      <td>77</td>\n",
       "      <td>VILA VELHA</td>\n",
       "      <td>19</td>\n",
       "    </tr>\n",
       "    <tr>\n",
       "      <th>1</th>\n",
       "      <td>70</td>\n",
       "      <td>SERRA</td>\n",
       "      <td>12</td>\n",
       "    </tr>\n",
       "    <tr>\n",
       "      <th>2</th>\n",
       "      <td>17</td>\n",
       "      <td>CARIACICA</td>\n",
       "      <td>11</td>\n",
       "    </tr>\n",
       "    <tr>\n",
       "      <th>3</th>\n",
       "      <td>78</td>\n",
       "      <td>VITORIA</td>\n",
       "      <td>10</td>\n",
       "    </tr>\n",
       "    <tr>\n",
       "      <th>4</th>\n",
       "      <td>74</td>\n",
       "      <td>VIANA</td>\n",
       "      <td>6</td>\n",
       "    </tr>\n",
       "  </tbody>\n",
       "</table>\n",
       "</div>"
      ],
      "text/plain": [
       "   id_cidade nome_cidade  num_crimes\n",
       "0         77  VILA VELHA          19\n",
       "1         70       SERRA          12\n",
       "2         17   CARIACICA          11\n",
       "3         78     VITORIA          10\n",
       "4         74       VIANA           6"
      ]
     },
     "execution_count": 4,
     "metadata": {},
     "output_type": "execute_result"
    }
   ],
   "source": [
    "cidades_perigosas"
   ]
  },
  {
   "cell_type": "code",
   "execution_count": 11,
   "metadata": {},
   "outputs": [],
   "source": [
    "df = pd.DataFrame(cidades_perigosas)"
   ]
  },
  {
   "cell_type": "code",
   "execution_count": 12,
   "metadata": {
    "scrolled": true
   },
   "outputs": [
    {
     "data": {
      "text/plain": [
       "<matplotlib.axes._subplots.AxesSubplot at 0x124fdb70>"
      ]
     },
     "execution_count": 12,
     "metadata": {},
     "output_type": "execute_result"
    },
    {
     "data": {
      "image/png": "[encoded data removed]",
      "text/plain": [
       "<Figure size 432x288 with 1 Axes>"
      ]
     },
     "metadata": {
      "needs_background": "light"
     },
     "output_type": "display_data"
    }
   ],
   "source": [
    "import seaborn as sns\n",
    "sns.barplot(x=\"num_crimes\", y=\"nome_cidade\",data=df,orient='h')"
   ]
  },
  {
   "cell_type": "markdown",
   "metadata": {},
   "source": [
    "### RUAS COM MAIS CRIMES REGISTRADOS"
   ]
  },
  {
   "cell_type": "code",
   "execution_count": 9,
   "metadata": {},
   "outputs": [],
   "source": [
    "ruas_perigosas = pd.read_sql_query(\"\"\"\n",
    "                            SELECT cr.id_rua,ru.nome_rua,count(cr.id_rua) as num_crimes FROM crime cr\n",
    "                            INNER JOIN rua ru ON(cr.id_rua = ru.id) GROUP BY cr.id_rua,ru.nome_rua\n",
    "                            ORDER BY count(*) DESC LIMIT(5)\n",
    "\n",
    "                            \"\"\",conn)"
   ]
  },
  {
   "cell_type": "code",
   "execution_count": 10,
   "metadata": {
    "scrolled": false
   },
   "outputs": [
    {
     "data": {
      "text/html": [
       "<div>\n",
       "<style scoped>\n",
       "    .dataframe tbody tr th:only-of-type {\n",
       "        vertical-align: middle;\n",
       "    }\n",
       "\n",
       "    .dataframe tbody tr th {\n",
       "        vertical-align: top;\n",
       "    }\n",
       "\n",
       "    .dataframe thead th {\n",
       "        text-align: right;\n",
       "    }\n",
       "</style>\n",
       "<table border=\"1\" class=\"dataframe\">\n",
       "  <thead>\n",
       "    <tr style=\"text-align: right;\">\n",
       "      <th></th>\n",
       "      <th>id_rua</th>\n",
       "      <th>nome_rua</th>\n",
       "      <th>num_crimes</th>\n",
       "    </tr>\n",
       "  </thead>\n",
       "  <tbody>\n",
       "    <tr>\n",
       "      <th>0</th>\n",
       "      <td>38</td>\n",
       "      <td>POEIRAO</td>\n",
       "      <td>4</td>\n",
       "    </tr>\n",
       "    <tr>\n",
       "      <th>1</th>\n",
       "      <td>131</td>\n",
       "      <td>RODOVIA FEDERAL BR 101, KM 308,2</td>\n",
       "      <td>4</td>\n",
       "    </tr>\n",
       "    <tr>\n",
       "      <th>2</th>\n",
       "      <td>2</td>\n",
       "      <td>ZONA RURAL</td>\n",
       "      <td>3</td>\n",
       "    </tr>\n",
       "    <tr>\n",
       "      <th>3</th>\n",
       "      <td>145</td>\n",
       "      <td>RUA SILVIO AVIDOS</td>\n",
       "      <td>2</td>\n",
       "    </tr>\n",
       "    <tr>\n",
       "      <th>4</th>\n",
       "      <td>73</td>\n",
       "      <td>RUA AGUA MARINHA</td>\n",
       "      <td>2</td>\n",
       "    </tr>\n",
       "  </tbody>\n",
       "</table>\n",
       "</div>"
      ],
      "text/plain": [
       "   id_rua                          nome_rua  num_crimes\n",
       "0      38                           POEIRAO           4\n",
       "1     131  RODOVIA FEDERAL BR 101, KM 308,2           4\n",
       "2       2                        ZONA RURAL           3\n",
       "3     145                 RUA SILVIO AVIDOS           2\n",
       "4      73                  RUA AGUA MARINHA           2"
      ]
     },
     "execution_count": 10,
     "metadata": {},
     "output_type": "execute_result"
    }
   ],
   "source": [
    "ruas_perigosas"
   ]
  },
  {
   "cell_type": "code",
   "execution_count": 18,
   "metadata": {},
   "outputs": [],
   "source": [
    "df = pd.DataFrame(ruas_perigosas)"
   ]
  },
  {
   "cell_type": "code",
   "execution_count": 19,
   "metadata": {},
   "outputs": [
    {
     "data": {
      "text/plain": [
       "<matplotlib.axes._subplots.AxesSubplot at 0x51e4f10>"
      ]
     },
     "execution_count": 19,
     "metadata": {},
     "output_type": "execute_result"
    },
    {
     "data": {
      "image/png": "[encoded data removed]",
      "text/plain": [
       "<Figure size 432x288 with 1 Axes>"
      ]
     },
     "metadata": {
      "needs_background": "light"
     },
     "output_type": "display_data"
    }
   ],
   "source": [
    "import seaborn as sns\n",
    "sns.barplot(x=\"num_crimes\", y=\"nome_rua\",data=df,orient='h')"
   ]
  }
 ],
 "metadata": {
  "kernelspec": {
   "display_name": "Python 3",
   "language": "python",
   "name": "python3"
  },
  "language_info": {
   "codemirror_mode": {
    "name": "ipython",
    "version": 3
   },
   "file_extension": ".py",
   "mimetype": "text/x-python",
   "name": "python",
   "nbconvert_exporter": "python",
   "pygments_lexer": "ipython3",
   "version": "3.6.4"
  }
 },
 "nbformat": 4,
 "nbformat_minor": 2
}
